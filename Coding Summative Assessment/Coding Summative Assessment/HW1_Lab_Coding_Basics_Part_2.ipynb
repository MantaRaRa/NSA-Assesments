{
  "cells": [
    {
      "cell_type": "markdown",
      "metadata": {
        "id": "UgGLMA5PWzXC"
      },
      "source": [
        "Welcome to Python! You will be writing Python script a few lines at a time and learn different concepts of code development. What you see below is a simple print statement that displays a message. Note that the message is enclosed within double quotes, and the message itself contains a single quotation mark in the middle. This single print statement is the first script you are going to execute. The rectangle in which you have the script is called a code cell. In order to excute the code in a code cell, you place the cursor within the code cell anywhere and hit the Enter key while pressing the SHIFT key. We will say it as SHIFT+Enter from now on. \n",
        "\n",
        "# ***Section 1***\n",
        "\n",
        "**Go to the code cell below and hit SHIFT+Enter to execute it.**\n",
        "\n",
        "Ok, now change the message to something else in the print statement. Consider a message which contains a single quote again, like \"It's great fun!\" \n",
        "\n",
        "**Now, execute the modified code cell by hitting SHIFT+Enter.**\n",
        "\n",
        "**Try changing the message aorund a few times, executing the cell each time you make a change.**\n",
        "\n",
        "Suppose you make a mistake, like forgetting a closing quote or closing parenthesis. Then the Python interpreter will complain. While it may not be immediately obvious what the interpreter is complainng about, you can take a close look at your script and figure out what is wrong. The most commonly encountered error is \"invalid syntax,\" but it may not always say so directly. \n",
        "\n",
        "**You might even want to make a mistake on purpose and see how the interpreter reacts.** \n",
        "\n",
        "This way, you'll learn that building your code incrementally one line/part at a time this way will help you localize any error situation and focus on the most recent part of the script you added. This is usually true at least for syntax errors.\n",
        "\n"
      ]
    },
    {
      "cell_type": "code",
      "execution_count": 1,
      "metadata": {
        "id": "TtvsaS8wXGPe"
      },
      "outputs": [
        {
          "name": "stdout",
          "output_type": "stream",
          "text": [
            "Let's get started!\n"
          ]
        }
      ],
      "source": [
        "print(\"Let's get started!\")"
      ]
    },
    {
      "cell_type": "markdown",
      "metadata": {
        "id": "5eUHAu5kXzas"
      },
      "source": [
        "# ***Section 2***\n",
        "\n",
        "Alright, let's go the next idea now. We want to play with variables and expressions. We will create variables and assign values to them. We will find out what type each variable is, and see if we can convert data of one type to data of another type. \n",
        "\n",
        "Let's consider the script in the below code cell next. The result of executing it is shown below the cell. The first thing you see is that there are several lines of Python code in this cell. You could add as many lines of code as you wish inside a cell, but each time you type a line and want to move to another line, just hit the Enter key. Do not hit SHIFT+Enter as it is used for the purpose of executing all the lines in the entire cell. \n",
        "\n",
        "**Ok, now go ahead and hit SHIFT+Enter anyway after you place the cursor somewhere inside the cell to see that it does produce the output as it appears now.**\n",
        "\n",
        "I hope it worked! \n",
        "\n",
        "**Now, change the information in the cell to something that you make up for an imaginary person like I did. AFter you make the changes you wish, hit SHIFT+Enter to execute the cell.** \n",
        "\n"
      ]
    },
    {
      "cell_type": "code",
      "execution_count": 2,
      "metadata": {
        "id": "bMQy678hXtXw"
      },
      "outputs": [
        {
          "name": "stdout",
          "output_type": "stream",
          "text": [
            "My name is John Doe\n",
            "My height is 64.5 inches\n",
            "My weight is 148.7 pounds\n",
            "My doctor is Dr. Roberts\n",
            "I walk 3 miles every day\n",
            "The value of my_variable shows it is of type <class 'int'>\n"
          ]
        }
      ],
      "source": [
        "my_name = \"John Doe\"\n",
        "message = \"I walk 3 miles every day\"\n",
        "my_variable = 75\n",
        "my_height_in_inches = 64.5\n",
        "my_weight_in_pounds = 148.7\n",
        "my_doctor = \"Dr. Roberts\"\n",
        "print(\"My name is \" + my_name)\n",
        "print(\"My height is \" + str(my_height_in_inches) + \" inches\")\n",
        "print(\"My weight is \" + str(my_weight_in_pounds) + \" pounds\")\n",
        "print(\"My doctor is \" + my_doctor)\n",
        "print (message)\n",
        "type_of_my_variable = type(my_variable)\n",
        "print(\"The value of my_variable shows it is of type \" + str(type_of_my_variable))"
      ]
    },
    {
      "cell_type": "markdown",
      "metadata": {
        "id": "1DJlyptd1wKQ"
      },
      "source": [
        "# ***Section 3***\n",
        "\n",
        "Next, let us do the same thing as above, but this time let's have a dialogue with the user to get information. We will refer to this as prompting and receiving input from the user. \n",
        "\n",
        "**Execute the code cell below by hitting SHIFT+Enter.**"
      ]
    },
    {
      "cell_type": "code",
      "execution_count": 4,
      "metadata": {
        "id": "0d3UODrB2YVt"
      },
      "outputs": [
        {
          "name": "stdout",
          "output_type": "stream",
          "text": [
            "Von, you are 37 years old.\n",
            "Your doctor is Dr.RaRa\n",
            "You are 65 inches tall\n",
            "You weigh 150 pounds\n",
            "You say your daily exercise is: PX90\n"
          ]
        }
      ],
      "source": [
        "your_name = input(\"Enter your name: \")\n",
        "your_age = int(input(\"Enter your age in years as a whole number: \"))\n",
        "your_doctor = input(\"Enter your doctor's name: \")\n",
        "your_height = int(input(\"Enter your height in inches as a whole number: \"))\n",
        "your_weight = int(input(\"Enter your weight in pounds as a whole number: \"))\n",
        "your_exercise = input(\"Enter a short description of your daily exercise: \")\n",
        "print (your_name + \", you are \" + str(your_age) + \" years old.\")\n",
        "print (\"Your doctor is \" + your_doctor)\n",
        "print (\"You are \" + str(your_height) + \" inches tall\")\n",
        "print (\"You weigh \" + str(your_weight) + \" pounds\")\n",
        "print (\"You say your daily exercise is: \" + your_exercise)"
      ]
    },
    {
      "cell_type": "markdown",
      "metadata": {
        "id": "8LJmP_IIIhmc"
      },
      "source": [
        "# ***Section 4***\n",
        "\n",
        "In the code cell below, you are given several lines of code that are incomplete as indicated by the keyword **None**. Your **exercise** is to replace each occurrence of **None** with an appropriate line of code. The in-line comments near these occurrences will give you hints to complete the exercise. Once you feel comfortable that you have inserted the appropriate lines of code, execute the cell by hitting SHIFT+Enter. If you get error messages, or your code does not produce results that look right, you can go back and edit your code again and execute again. Make sure that the names of the variables you create are meaningful. Note that the exercise just needs you to write three lines of code altogether. Therefore, reading and closely revieweing all the code cells provided above so far will be very useful and help you to complete the exercise fairly quickly. I am estimating that the reading, reviewing, and writing the code asked should take you no more than 45 minutes to an hour.\n",
        "\n",
        "*When submitting your answer in Strut, run the program with the name John Doe and 20 as the miles value.*  "
      ]
    },
    {
      "cell_type": "code",
      "execution_count": 8,
      "metadata": {
        "id": "STkSUP20J1KX"
      },
      "outputs": [
        {
          "name": "stdout",
          "output_type": "stream",
          "text": [
            "John Doe, you walked 20 miles, Good job! Keep it up!\n"
          ]
        }
      ],
      "source": [
        "name_of_user = input(\"Enter your name: \")                                                       # Replace None with a statement that prompts the user to input their name \n",
        "miles_walked = int(input(\"Enter the number of miles walked as a whole number: \"))               # Replace None with a statement that prompts the user to input the number of miles walked \n",
        "print(name_of_user + \", you walked \" + str(miles_walked) + \" miles, Good job! Keep it up!\")     # Replace None with a message \"<user's name>, you walked <miles walked>. Good job! Keep it up!\" \n",
        "                                                                                                # In the above comment <user's name> stands for the name that was input by the user for the first line of code, and\n",
        "                                                                                                # <miles walked> stands for the number that was input by the user for the second line of code.\n",
        "                                                                                                # When submitting your answer in Strut, run the program with the name John Doe and 20 as the miles value.  "
      ]
    },
    {
      "cell_type": "markdown",
      "metadata": {
        "id": "Zu_lVlpbEicC"
      },
      "source": [
        "# ***Section 5***\n",
        "\n",
        "Let's move on to some coding that involves playing with variables and evaluating expressions. We will begin with some practice as we have done previously and then try the **exercise** that will follow the practice.\n",
        "\n",
        "**Execute the code cell below by hitting SHIFT+Enter.**"
      ]
    },
    {
      "cell_type": "code",
      "execution_count": 9,
      "metadata": {
        "id": "DkTXymt4Hycf"
      },
      "outputs": [
        {
          "name": "stdout",
          "output_type": "stream",
          "text": [
            "26\n",
            "13\n",
            "10\n",
            "20\n",
            "100\n",
            "5.0\n",
            "5\n",
            "3\n",
            "1.75\n"
          ]
        }
      ],
      "source": [
        "print (2 + 3 * 8)     # Use your calculator and do the calculation yourself and check the output produced when this code is executed.\n",
        "print (5 * 8 // 3)    # Remember what // stands for and calculate the answer yourself first. Check if your answer agrees with what the code displays.\n",
        "print (5 * (8 // 3))  # Remember what // stands for and calculate the answer yourself first. Check if your answer agrees with what the code displays.\n",
        "print (5 * 2 ** 2)    # Remember what ** stands for and calculate the answer yourself first. Check if your answer agrees with what the code displays.\n",
        "print ((5 * 2) ** 2)  # Remember what ** stands for and calculate the answer yourself first. Check if your answer agrees with what the code displays.\n",
        "print (5 * 2 / 2)     # Why is the answer 5.0 instead of 5 here?\n",
        "print (5 * 2 // 2)    # Why is the answer 5 instead of 5.0 here?\n",
        "print (5 * 2 // 3)    # Can you guess if the answer is going to be 3 or something like 3.33?  \n",
        "print (7 * 4 / 16)    # Can you predict your answer here? Will it be a whole number or a number with a decimal part?"
      ]
    },
    {
      "cell_type": "markdown",
      "metadata": {
        "id": "1a_8skBmLAoD"
      },
      "source": [
        "# ***Section 6***\n",
        "\n",
        "Ok, we are now ready for an exercise. Your exercise is to take hints from the in-line comments and complete the partial code given by replacing each occurrence of the keyword None.\n",
        "\n",
        "Complete the code cell below by **replacing the keyword None** in the given lines, following hints from the comments and **execute**.\n",
        "\n",
        "*Your messages should be use the same text as the example stating \"Evaluating the expression (expression) yields (resulting number)\"* \n",
        "\n",
        "Be sure the expression matches the same spacing as provided in the comments below to match the answer expected in Strut."
      ]
    },
    {
      "cell_type": "code",
      "execution_count": 12,
      "metadata": {
        "id": "blVPo5hCLZXR"
      },
      "outputs": [
        {
          "name": "stdout",
          "output_type": "stream",
          "text": [
            "Evaluating the expression 5 + 3 * 7 yields 26\n",
            "Evaluating the expression 2 + 3 * 8 yields 26\n",
            "Evaluating the expression 375 /25 / 3 yields 5.0\n",
            "Evaluating the expression 375 / 25 * 3 yields 45.0\n",
            "Evaluating the expression 375 / 25 yields 15.0\n",
            "Evaluating the expression 2 ** 2 ** 3 yields 256\n",
            "Evaluating the expression 3 ** (2 ** 2) yields 81\n",
            "Evaluating the expression 72 // (5 * 2) yields 7\n",
            "Evaluating the expression 72 // 5 / 2 yields 7.0\n",
            "Evaluating the expression (17 % 3) * 2 yields 4\n"
          ]
        }
      ],
      "source": [
        "print (\"Evaluating the expression 5 + 3 * 7 yields \" + str(5 + 3 * 7)) \n",
        "print(\"Evaluating the expression 2 + 3 * 8 yields \" + str(2 + 3 * 8))   #1 Replace None in this statement to display a message like the one produced by the above line of code for the expression 2 + 3 * 8\n",
        "print(\"Evaluating the expression 375 /25 / 3 yields \" + str(375 /25 / 3))   #2 Replace None in this statement to display a message like the one produced by the above line of code for the expression 375 /25 / 3\n",
        "print(\"Evaluating the expression 375 / 25 * 3 yields \" + str(375 / 25 * 3))   #3 Replace None in this statement to display a message like the one produced by the above line of code for the expression 375 / 25 * 3\n",
        "print(\"Evaluating the expression 375 / 25 yields \" + str(375 / 25))   #4 Replace None in this statement to display a message like the one produced by the above line of code for the expression 375 / 25\n",
        "print(\"Evaluating the expression 2 ** 2 ** 3 yields \" + str(2 ** 2 ** 3))   #5 Replace None in this statement to display a message like the one produced by the above line of code for the expression 2 ** 2 ** 3\n",
        "print(\"Evaluating the expression 3 ** (2 ** 2) yields \" + str(3 ** (2 ** 2)))   #6 Replace None in this statement to display a message like the one produced by the above line of code for the expression 3 ** (2 ** 2)\n",
        "print(\"Evaluating the expression 72 // (5 * 2) yields \" + str(72 // (5 * 2)))   #7 Replace None in this statement to display a message like the one produced by the above line of code for the expression 72 // (5 * 2)\n",
        "print(\"Evaluating the expression 72 // 5 / 2 yields \" + str(72 // 5 / 2))   #8 Replace None in this statement to display a message like the one produced by the above line of code for the expression 72 // 5 / 2\n",
        "print(\"Evaluating the expression (17 % 3) * 2 yields \" + str((17 % 3) * 2))   #9 Replace None in this statement to display a message like the one produced by the above line of code for the expression (17 % 3) * 2\n"
      ]
    }
  ],
  "metadata": {
    "colab": {
      "collapsed_sections": [],
      "name": "HW1_Lab_Coding_Basics_Part_2.ipynb",
      "provenance": []
    },
    "kernelspec": {
      "display_name": "Python 3.10.6 64-bit",
      "language": "python",
      "name": "python3"
    },
    "language_info": {
      "codemirror_mode": {
        "name": "ipython",
        "version": 3
      },
      "file_extension": ".py",
      "mimetype": "text/x-python",
      "name": "python",
      "nbconvert_exporter": "python",
      "pygments_lexer": "ipython3",
      "version": "3.10.6"
    },
    "vscode": {
      "interpreter": {
        "hash": "4ec06791a0e44fd42214b64d3958471c2133f93ebf1464074abdad0d38acfe3f"
      }
    }
  },
  "nbformat": 4,
  "nbformat_minor": 0
}
