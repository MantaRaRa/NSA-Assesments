{
 "cells": [
  {
   "cell_type": "code",
   "execution_count": 13,
   "metadata": {},
   "outputs": [
    {
     "name": "stdout",
     "output_type": "stream",
     "text": [
      "Please Input a valid ID #\n",
      "Please Input a valid height in inches\n",
      "Please Input a valid weight in pounds\n",
      "Patient's BMI is 25.0, Patient ID 789, Von VanMany is considered Normal\n"
     ]
    }
   ],
   "source": [
    "while True:\n",
    "    patient_id = int(input(\"Enter Patient's ID:\"))\n",
    "    if not patient_id >= 0:\n",
    "        print(\"Please Input a valid ID #\")\n",
    "        continue\n",
    "    else:\n",
    "        break\n",
    "\n",
    "patient_name = input(\"Enter Patient's First and Last name:\")\n",
    "\n",
    "while True:\n",
    "    patient_height = float(input(\"Enter Patient's height in inches as a whole number:\"))\n",
    "    if not patient_height >= 0:\n",
    "        print(\"Please Input a valid height in inches\")\n",
    "        continue\n",
    "    else:\n",
    "        break\n",
    "    \n",
    "while True:\n",
    "    patient_weight = float(input(\"Enter Patient's weight in pounds as a whole number:\"))\n",
    "    if not patient_weight >= 0:\n",
    "        print(\"Please Input a valid weight in pounds\")\n",
    "        continue\n",
    "    else:\n",
    "        break\n",
    "\n",
    "bmi = (patient_weight*703)/float(patient_height*patient_height);\n",
    "if bmi < 18.5:\n",
    "    print(f\"Patient's BMI is {bmi:.1f}, Patient ID {patient_id}, {patient_name} is considered Underweight\")\n",
    "if bmi>=18.5 and bmi<25:\n",
    "    print(f\"Patient's BMI is {bmi:.1f}, Patient ID {patient_id}, {patient_name} is considered Normal\")\n",
    "if bmi >= 25 and bmi < 30:\n",
    "   print(f\"Patient's BMI is {bmi:.1f}, Patient ID {patient_id}, {patient_name} is considered Overweight\")\n",
    "if bmi >= 30:\n",
    "   print(f\"Patient's BMI is {bmi:.1f}, Patient ID {patient_id}, {patient_name} is considered Obese\")"
   ]
  }
 ],
 "metadata": {
  "kernelspec": {
   "display_name": "Python 3.10.6 64-bit",
   "language": "python",
   "name": "python3"
  },
  "language_info": {
   "codemirror_mode": {
    "name": "ipython",
    "version": 3
   },
   "file_extension": ".py",
   "mimetype": "text/x-python",
   "name": "python",
   "nbconvert_exporter": "python",
   "pygments_lexer": "ipython3",
   "version": "3.10.6"
  },
  "orig_nbformat": 4,
  "vscode": {
   "interpreter": {
    "hash": "4ec06791a0e44fd42214b64d3958471c2133f93ebf1464074abdad0d38acfe3f"
   }
  }
 },
 "nbformat": 4,
 "nbformat_minor": 2
}
